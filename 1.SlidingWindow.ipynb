{
 "cells": [
  {
   "cell_type": "markdown",
   "id": "dfeca896",
   "metadata": {},
   "source": [
    "# 1.1 Mean of contingous numbers in Array"
   ]
  },
  {
   "cell_type": "markdown",
   "id": "2e98ee8d",
   "metadata": {},
   "source": [
    "### Naive Method"
   ]
  },
  {
   "cell_type": "code",
   "execution_count": 25,
   "id": "04171f5b",
   "metadata": {},
   "outputs": [
    {
     "data": {
      "text/plain": [
       "[4.4, 5.4]"
      ]
     },
     "execution_count": 25,
     "metadata": {},
     "output_type": "execute_result"
    }
   ],
   "source": [
    "\n",
    "def calculate_sliding_window_mean(input_data, window_size):\n",
    "    if len(input_data) < window_size: # ----> N\n",
    "        return []\n",
    "    if not isinstance(input_data, list): # ----> 1\n",
    "        raise Exception(\"Check the input data type\")\n",
    "        return []\n",
    "\n",
    "    input_data = [x for x in input_data if str(x).isnumeric()]   # ----> N\n",
    "\n",
    "    mean_list = []\n",
    "    for i in range(0, len(input_data)-window_size+1):         # ----> N-K ~ N\n",
    "        mean_value = sum(input_data[i:i+window_size])/window_size       # ---> K\n",
    "        mean_list.append(mean_value)\n",
    "    return mean_list\n",
    "\n",
    "\n",
    "input_list = [22, 31, 45, 35, 47, 71, 100]\n",
    "K = 5\n",
    "\n",
    "\n",
    "calculate_sliding_window_mean(input_list, K)"
   ]
  },
  {
   "cell_type": "markdown",
   "id": "100df3a0",
   "metadata": {},
   "source": [
    "### Optimal Method"
   ]
  },
  {
   "cell_type": "raw",
   "id": "a967e045",
   "metadata": {},
   "source": [
    "1st Window: [22, 31, 45, 35, 47]\n",
    "        22 + 31 + 45 + 35 + 47 = 180\n",
    "2nd Window: [31, 45, 35, 47, 71]\n",
    "    31 + 45 + 35 + 47 + 71 = 229\n",
    "3rd Window: [45, 35, 47, 71, 100]\n",
    "    45 + 35 + 47 + 71 + 100 = 298\n",
    "\n",
    "output : [180, 229, 298]"
   ]
  },
  {
   "cell_type": "code",
   "execution_count": 37,
   "id": "4664e310",
   "metadata": {},
   "outputs": [
    {
     "name": "stdout",
     "output_type": "stream",
     "text": [
      "index 0 window_sum 22 window_starting_num 22\n",
      "index 1 window_sum 53 window_starting_num 22\n",
      "index 2 window_sum 98 window_starting_num 22\n",
      "index 3 window_sum 133 window_starting_num 22\n",
      "changing windows start\n",
      "index 4 window_sum 158 window_starting_num 31\n",
      "changing windows start\n",
      "index 5 window_sum 198 window_starting_num 45\n",
      "changing windows start\n",
      "index 6 window_sum 253 window_starting_num 35\n"
     ]
    },
    {
     "data": {
      "text/plain": [
       "[180, 229, 298]"
      ]
     },
     "execution_count": 37,
     "metadata": {},
     "output_type": "execute_result"
    }
   ],
   "source": [
    "input_data = [22, 31, 45, 35, 47, 71, 100]\n",
    "\n",
    "mean_list = []\n",
    "window_size = 5\n",
    "window_sum = 0\n",
    "window_starting_num = input_data[0]\n",
    "for index in range(0, len(input_data)):   # --> N\n",
    "    window_sum = window_sum + input_data[index] # --> 1\n",
    "    if index >= window_size-1:\n",
    "        mean_list.append(window_sum)\n",
    "        window_sum = window_sum - window_starting_num\n",
    "        print(\"changing windows start\")\n",
    "        window_starting_num = input_data[index-window_size+2]\n",
    "    print(\"index\", index, \"window_sum\", window_sum, \"window_starting_num\", window_starting_num)\n",
    "mean_list"
   ]
  },
  {
   "cell_type": "code",
   "execution_count": 28,
   "id": "ddeb5977",
   "metadata": {},
   "outputs": [
    {
     "data": {
      "text/plain": [
       "298"
      ]
     },
     "execution_count": 28,
     "metadata": {},
     "output_type": "execute_result"
    }
   ],
   "source": [
    " 45 + 35 + 47 + 71 + 100"
   ]
  },
  {
   "cell_type": "markdown",
   "id": "49f14aaa",
   "metadata": {},
   "source": [
    "# 1.2 Maximum Sum Subarray of Size K (easy)"
   ]
  },
  {
   "cell_type": "markdown",
   "id": "21c828a7",
   "metadata": {},
   "source": [
    "### Naive Approach"
   ]
  },
  {
   "cell_type": "code",
   "execution_count": 3,
   "id": "98512633",
   "metadata": {},
   "outputs": [],
   "source": [
    "input_list = [2, 1, 5, 1, 3, 2]\n",
    "k=4"
   ]
  },
  {
   "cell_type": "code",
   "execution_count": 4,
   "id": "6acf67fd",
   "metadata": {},
   "outputs": [
    {
     "name": "stdout",
     "output_type": "stream",
     "text": [
      "Sum is  11  with sub array as  [5, 1, 3, 2]\n"
     ]
    }
   ],
   "source": [
    "max_sum = None\n",
    "max_sub_array = []\n",
    "for i in range(0, len(input_list)-k+1):\n",
    "    this_sum = sum(input_list[i:i+k])\n",
    "    if max_sum == None:\n",
    "        max_sum = this_sum\n",
    "        max_sub_array = input_list[i:i+k]\n",
    "    elif max_sum < this_sum:\n",
    "        max_sum = this_sum\n",
    "        max_sub_array = input_list[i:i+k]\n",
    "\n",
    "print(\"Sum is \", max_sum, \" with sub array as \", max_sub_array)"
   ]
  },
  {
   "cell_type": "markdown",
   "id": "5c65b122",
   "metadata": {},
   "source": [
    "### Optimal Approach"
   ]
  },
  {
   "cell_type": "code",
   "execution_count": 10,
   "id": "89c327cc",
   "metadata": {},
   "outputs": [
    {
     "name": "stdout",
     "output_type": "stream",
     "text": [
      "Sum is  11  with sub array as  [5, 1, 3, 2]\n"
     ]
    }
   ],
   "source": [
    "input_list = [2, 1, 5, 1, 3, 2]\n",
    "window_size=4\n",
    "\n",
    "max_sum = None\n",
    "window_start_index = 0\n",
    "current_window_sum = 0\n",
    "for window_end in range(0, len(input_list)):\n",
    "    current_window_sum = current_window_sum + input_list[window_end]\n",
    "    if window_end >= window_size-1:\n",
    "        this_sum = current_window_sum\n",
    "        if max_sum == None:\n",
    "            max_sum = this_sum\n",
    "            max_sub_array = input_list[window_start_index:window_end+1]\n",
    "        elif max_sum < this_sum:\n",
    "            max_sum = this_sum\n",
    "            max_sub_array = input_list[window_start_index:window_end+1]\n",
    "        current_window_sum = current_window_sum - input_list[window_start_index]\n",
    "        window_start_index = window_start_index + 1\n",
    "print(\"Sum is \", max_sum, \" with sub array as \", max_sub_array)"
   ]
  },
  {
   "cell_type": "markdown",
   "id": "9e615690",
   "metadata": {},
   "source": [
    "# 1.3 Smallest Subarray with a given sum"
   ]
  },
  {
   "cell_type": "code",
   "execution_count": 18,
   "id": "401241c1",
   "metadata": {},
   "outputs": [],
   "source": [
    "input_list = [2, 1, 5, 2, 3, 2]\n",
    "target_sum = 7"
   ]
  },
  {
   "cell_type": "markdown",
   "id": "dd45f73b",
   "metadata": {},
   "source": [
    "## Naive Method --> Optimal Method"
   ]
  },
  {
   "cell_type": "code",
   "execution_count": 20,
   "id": "c6581c53",
   "metadata": {},
   "outputs": [
    {
     "name": "stdout",
     "output_type": "stream",
     "text": [
      "small_sub_array [5, 2]\n"
     ]
    }
   ],
   "source": [
    "small_sub_array = None\n",
    "\n",
    "for window_start_index in range(0, len(input_list)):\n",
    "    current_sum = 0\n",
    "    for i in range(window_start_index, len(input_list)):\n",
    "        current_sum = current_sum + input_list[i]\n",
    "        if current_sum >= target_sum:\n",
    "            this_sub_array = input_list[window_start_index:i+1]\n",
    "            if small_sub_array is None:\n",
    "                small_sub_array = this_sub_array\n",
    "            elif len(small_sub_array) > len(this_sub_array):\n",
    "                small_sub_array = this_sub_array\n",
    "            break\n",
    "print(\"small_sub_array\", small_sub_array)"
   ]
  },
  {
   "cell_type": "markdown",
   "id": "338d3f31",
   "metadata": {},
   "source": [
    "# 1.4 Longest Substring with K Distinct Characters"
   ]
  },
  {
   "cell_type": "markdown",
   "id": "4dacf326",
   "metadata": {},
   "source": [
    "## Beginner Approach"
   ]
  },
  {
   "cell_type": "code",
   "execution_count": 2,
   "id": "50e3d1be",
   "metadata": {},
   "outputs": [],
   "source": [
    "def distinct_characters(input_str):\n",
    "    return set(input_str)"
   ]
  },
  {
   "cell_type": "code",
   "execution_count": 54,
   "id": "49d81157",
   "metadata": {},
   "outputs": [
    {
     "name": "stdout",
     "output_type": "stream",
     "text": [
      "output_string araaci\n",
      "len_long_distinct_string 6\n"
     ]
    }
   ],
   "source": [
    "input_string = \"araaci\"\n",
    "K = 4\n",
    "\n",
    "len_long_distinct_string = 0\n",
    "output_string = \"\"\n",
    "\n",
    "for j in range(0, len(input_string)):\n",
    "    current_string = \"\"\n",
    "    for i in range(j, len(input_string)):\n",
    "        current_string = current_string + input_string[i]\n",
    "        distinct_char = distinct_characters(current_string)\n",
    "        if len(distinct_char)>K:\n",
    "            break\n",
    "        if len(current_string) > len_long_distinct_string:\n",
    "            len_long_distinct_string = len(current_string)\n",
    "            output_string = current_string\n",
    "print(\"output_string\",  output_string)\n",
    "print(\"len_long_distinct_string\",  len_long_distinct_string)"
   ]
  },
  {
   "cell_type": "markdown",
   "id": "52fd8a1f",
   "metadata": {},
   "source": [
    "## Optimal Solution"
   ]
  },
  {
   "cell_type": "markdown",
   "id": "7da1d75c",
   "metadata": {},
   "source": [
    "- Start increasing window size towards right till distinct characters > k\n",
    "- once distinct characters > k, shrink the window from the start and update the distinct characters count\n",
    "- once distinct characters <=k, again increase window size towards right"
   ]
  },
  {
   "cell_type": "code",
   "execution_count": 53,
   "id": "38ea5238",
   "metadata": {},
   "outputs": [
    {
     "name": "stdout",
     "output_type": "stream",
     "text": [
      "output_string araaci\n",
      "max_len_sub_string 6\n"
     ]
    }
   ],
   "source": [
    "input_string = \"araaci\"\n",
    "K = 4\n",
    "\n",
    "\n",
    "max_len_sub_string = 0\n",
    "output_string = \"\"\n",
    "start_window = 0\n",
    "count_dict = {}\n",
    "for end_window in range(0, len(input_string)):\n",
    "    # print(\"Sub String Now\", input_string[start_window:end_window])\n",
    "    # Start increasing window size towards right till distinct characters > k\n",
    "    new_char = input_string[end_window]\n",
    "    if new_char not in count_dict.keys():\n",
    "        count_dict[new_char] = 0\n",
    "    count_dict[new_char] += 1\n",
    "\n",
    "    # once distinct characters > k, shrink the window from the start and update the distinct characters count\n",
    "    while len(count_dict) > K:\n",
    "        leaving_char = input_string[start_window]\n",
    "        count_dict[leaving_char] -= 1\n",
    "        if count_dict[leaving_char] == 0:\n",
    "            del count_dict[leaving_char]\n",
    "        start_window = start_window + 1\n",
    "\n",
    "\n",
    "    # Save the window max substring\n",
    "    if end_window - start_window >= max_len_sub_string:\n",
    "        max_len_sub_string = end_window - start_window + 1\n",
    "        output_string = input_string[start_window:end_window+1]\n",
    "\n",
    "print(\"output_string\",  output_string)\n",
    "print(\"max_len_sub_string\",  max_len_sub_string)"
   ]
  },
  {
   "cell_type": "code",
   "execution_count": null,
   "id": "5c27dc12",
   "metadata": {},
   "outputs": [],
   "source": []
  }
 ],
 "metadata": {
  "kernelspec": {
   "display_name": "GPT4ALLENV",
   "language": "python",
   "name": "gpt4allenv"
  },
  "language_info": {
   "codemirror_mode": {
    "name": "ipython",
    "version": 3
   },
   "file_extension": ".py",
   "mimetype": "text/x-python",
   "name": "python",
   "nbconvert_exporter": "python",
   "pygments_lexer": "ipython3",
   "version": "3.9.16"
  }
 },
 "nbformat": 4,
 "nbformat_minor": 5
}
